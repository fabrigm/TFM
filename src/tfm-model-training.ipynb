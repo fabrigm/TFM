{
 "cells": [
  {
   "cell_type": "markdown",
   "metadata": {},
   "source": [
    "# Model training"
   ]
  },
  {
   "cell_type": "markdown",
   "metadata": {},
   "source": [
    "#### Requirements"
   ]
  },
  {
   "cell_type": "code",
   "execution_count": null,
   "metadata": {},
   "outputs": [],
   "source": [
    "!pip install pandas\n",
    "!pip install google-cloud-bigquery\n",
    "!pip install google-cloud-storage\n",
    "!pip install pandas-gbq"
   ]
  },
  {
   "cell_type": "markdown",
   "metadata": {},
   "source": [
    "En este apartado vamos a entrenar nuestros modelos. Necesitaremos tres: mensaje de cookies, botón aceptar cookies y botón cerrar cookies.\n"
   ]
  },
  {
   "cell_type": "markdown",
   "metadata": {},
   "source": [
    "## Mensaje de cookies"
   ]
  },
  {
   "cell_type": "markdown",
   "metadata": {},
   "source": [
    "Este modelo tiene que predecir la probabilidad de que un elemento HTML sea de un mensaje de cookies"
   ]
  },
  {
   "cell_type": "markdown",
   "metadata": {},
   "source": [
    "#### Get the Data\n",
    "Como los datos los hemos preparado en el Notebook anterior ahora los cargamos."
   ]
  },
  {
   "cell_type": "code",
   "execution_count": null,
   "metadata": {},
   "outputs": [],
   "source": [
    "import pickle\n",
    "\n",
    "df_train = pickle.load(open('df_message_train.pkl', 'rb'))\n",
    "df_test = pickle.load(open('df_message_test.pkl', 'rb'))\n"
   ]
  },
  {
   "cell_type": "markdown",
   "metadata": {},
   "source": [
    "#### Vectorize\n",
    "Convertimos nuestros dataset de test y train en vectores"
   ]
  },
  {
   "cell_type": "code",
   "execution_count": null,
   "metadata": {},
   "outputs": [],
   "source": [
    "from sklearn.feature_extraction.text import CountVectorizer\n",
    "\n",
    "# Seleccionamos los textos del dataset de train para \"entrenar\" al vectorizer\n",
    "message_train = df_train['text']\n",
    "\n",
    "\n",
    "vectorizer = CountVectorizer()\n",
    "vectorizer.fit(message_train)\n",
    "\n",
    "X_train = vectorizer.transform(df_train['text'])\n",
    "X_test  = vectorizer.transform(df_test['text'])\n",
    "X_train\n"
   ]
  },
  {
   "cell_type": "markdown",
   "metadata": {},
   "source": [
    "#### Model fit\n",
    "Entrenamos nuestro modelo"
   ]
  },
  {
   "cell_type": "code",
   "execution_count": null,
   "metadata": {},
   "outputs": [],
   "source": [
    "from sklearn.linear_model import LogisticRegression\n",
    "\n",
    "classifier = LogisticRegression()\n",
    "classifier.fit(X_train, df_train['label'])\n",
    "\n"
   ]
  },
  {
   "cell_type": "markdown",
   "metadata": {},
   "source": [
    "#### Model test\n",
    "Entrenamos nuestro modelo"
   ]
  },
  {
   "cell_type": "code",
   "execution_count": null,
   "metadata": {},
   "outputs": [],
   "source": [
    "\n",
    "score = classifier.score(X_test, df_test['label'])\n",
    "\n",
    "print(\"Accuracy:\", score)\n",
    "\n"
   ]
  },
  {
   "cell_type": "markdown",
   "metadata": {},
   "source": [
    "#### Confusion matrix\n",
    "Vemos la matriz de confusión de nuestro modelo"
   ]
  },
  {
   "cell_type": "code",
   "execution_count": null,
   "metadata": {},
   "outputs": [],
   "source": [
    "y_pred = classifier.predict(X_test)  \n",
    "\n",
    "\n",
    "from sklearn.metrics import classification_report, confusion_matrix  \n",
    "print(confusion_matrix(df_test['label'],y_pred))  \n",
    "print(classification_report(df_test['label'],y_pred))  \n"
   ]
  },
  {
   "cell_type": "markdown",
   "metadata": {},
   "source": [
    "Debido al buen funcionamiento de este modelo no seguimos buscando otros tipos."
   ]
  },
  {
   "cell_type": "code",
   "execution_count": null,
   "metadata": {},
   "outputs": [],
   "source": [
    "# Guardamos en un pickle\n",
    "import pickle\n",
    "\n",
    "with open('classifier_message.pkl', 'wb') as f:\n",
    "    pickle.dump(classifier, f)\n",
    "    \n",
    "with open('vectorizer_message.pkl', 'wb') as f:\n",
    "    pickle.dump(vectorizer, f)"
   ]
  },
  {
   "cell_type": "markdown",
   "metadata": {},
   "source": [
    "## Aceptar cookies"
   ]
  },
  {
   "cell_type": "markdown",
   "metadata": {},
   "source": [
    "Este modelo tiene que predecir la probabilidad de que un elemento HTML sea el botón de aceptar las cookies."
   ]
  },
  {
   "cell_type": "markdown",
   "metadata": {},
   "source": [
    "#### Get the Data\n",
    "Como los datos los hemos preparado en el Notebook anterior ahora los cargamos."
   ]
  },
  {
   "cell_type": "code",
   "execution_count": null,
   "metadata": {},
   "outputs": [],
   "source": [
    "import pickle\n",
    "\n",
    "df_aceptar_train = pickle.load(open('df_aceptar_train.pkl', 'rb'))\n",
    "df_aceptar_train_label = pickle.load(open('df_aceptar_train_label.pkl', 'rb'))\n",
    "\n",
    "df_aceptar_test = pickle.load(open('df_aceptar_test.pkl', 'rb'))\n",
    "df_aceptar_test_label = pickle.load(open('df_aceptar_test_label.pkl', 'rb'))\n"
   ]
  },
  {
   "cell_type": "markdown",
   "metadata": {},
   "source": [
    "### Test multiple classificators"
   ]
  },
  {
   "cell_type": "markdown",
   "metadata": {},
   "source": [
    "#### Logistic Regression"
   ]
  },
  {
   "cell_type": "code",
   "execution_count": null,
   "metadata": {},
   "outputs": [],
   "source": [
    "from sklearn.linear_model import LogisticRegression\n",
    "from sklearn.metrics import log_loss\n",
    "\n",
    "clf = LogisticRegression()\n",
    "clf.fit(df_aceptar_train, df_aceptar_train_label)\n",
    "\n",
    "score = clf.score(df_aceptar_test, df_aceptar_test_label)\n",
    "\n",
    "\n",
    "print(\"Accuracy:\", score)\n",
    "\n",
    "y_pred = clf.predict(df_aceptar_test)  \n",
    "\n",
    "from sklearn.metrics import classification_report, confusion_matrix  \n",
    "print(confusion_matrix(df_aceptar_test_label,y_pred))  \n",
    "print(classification_report(df_aceptar_test_label,y_pred))  \n"
   ]
  },
  {
   "cell_type": "markdown",
   "metadata": {},
   "source": [
    "#### Stochastic Gradient Descent (SGD) "
   ]
  },
  {
   "cell_type": "code",
   "execution_count": null,
   "metadata": {},
   "outputs": [],
   "source": [
    "from sklearn.linear_model import SGDClassifier\n",
    "\n",
    "#clf = SGDClassifier(loss=\"hinge\", penalty=\"l2\", max_iter=5)\n",
    "clf_SGD = SGDClassifier(loss=\"log\", penalty=\"l2\", max_iter=10)\n",
    "\n",
    "clf_SGD.fit(df_aceptar_train, df_aceptar_train_label)   \n",
    "\n",
    "score = clf_SGD.score(df_aceptar_test, df_aceptar_test_label)\n",
    "\n",
    "print(\"Accuracy:\", score)\n",
    "y_pred = clf_SGD.predict(df_aceptar_test)  \n",
    "\n",
    "from sklearn.metrics import classification_report, confusion_matrix  \n",
    "print(confusion_matrix(df_aceptar_test_label,y_pred))  \n",
    "print(classification_report(df_aceptar_test_label,y_pred))"
   ]
  },
  {
   "cell_type": "markdown",
   "metadata": {},
   "source": [
    "#### Support Vector Classification (SVC)"
   ]
  },
  {
   "cell_type": "code",
   "execution_count": null,
   "metadata": {},
   "outputs": [],
   "source": [
    "from sklearn.svm import SVC  \n",
    "\n",
    "\n",
    "clf = SVC(kernel='linear',probability=True)  \n",
    "clf.fit(df_aceptar_train, df_aceptar_train_label) \n",
    "\n",
    "y_pred = clf.predict(df_aceptar_test)  \n",
    "\n",
    "score = clf.score(df_aceptar_test, df_aceptar_test_label)\n",
    "\n",
    "\n",
    "print(\"Accuracy:\", score)\n",
    "\n",
    "from sklearn.metrics import classification_report, confusion_matrix  \n",
    "print(confusion_matrix(df_aceptar_test_label,y_pred))  \n",
    "print(classification_report(df_aceptar_test_label,y_pred)) "
   ]
  },
  {
   "cell_type": "markdown",
   "metadata": {},
   "source": [
    "#### Choose best estimator"
   ]
  },
  {
   "cell_type": "markdown",
   "metadata": {},
   "source": [
    "Escogemos el estimador SGDClassifier debido a que tiene le mejor accuracy y sobre todo el mejor recall."
   ]
  },
  {
   "cell_type": "code",
   "execution_count": null,
   "metadata": {},
   "outputs": [],
   "source": [
    "# Guardamos en un pickle\n",
    "import pickle\n",
    "\n",
    "with open('classifier_aceptar.pkl', 'wb') as f:\n",
    "    pickle.dump(clf_SGD, f)"
   ]
  },
  {
   "cell_type": "markdown",
   "metadata": {},
   "source": [
    "## Cerrar cookies"
   ]
  },
  {
   "cell_type": "markdown",
   "metadata": {},
   "source": [
    "Este modelo tiene que predecir la probabilidad de que un elemento HTML sea el botón de cerrar las cookies."
   ]
  },
  {
   "cell_type": "markdown",
   "metadata": {},
   "source": [
    "#### Get the Data\n",
    "Como los datos los hemos preparado en el Notebook anterior ahora los cargamos."
   ]
  },
  {
   "cell_type": "code",
   "execution_count": null,
   "metadata": {},
   "outputs": [],
   "source": [
    "import pickle\n",
    "\n",
    "df_cerrar_train = pickle.load(open('df_cerrar_train.pkl', 'rb'))\n",
    "df_cerrar_train_label = pickle.load(open('df_cerrar_train_label.pkl', 'rb'))\n",
    "\n",
    "df_cerrar_test = pickle.load(open('df_cerrar_test.pkl', 'rb'))\n",
    "df_cerrar_test_label = pickle.load(open('df_cerrar_test_label.pkl', 'rb'))\n"
   ]
  },
  {
   "cell_type": "markdown",
   "metadata": {},
   "source": [
    "### Test multiple classificators"
   ]
  },
  {
   "cell_type": "markdown",
   "metadata": {},
   "source": [
    "#### Logistic Regression"
   ]
  },
  {
   "cell_type": "code",
   "execution_count": null,
   "metadata": {},
   "outputs": [],
   "source": [
    "from sklearn.linear_model import LogisticRegression\n",
    "from sklearn.metrics import log_loss\n",
    "\n",
    "clf = LogisticRegression()\n",
    "clf.fit(df_cerrar_train, df_cerrar_train_label)\n",
    "\n",
    "score = clf.score(df_cerrar_test, df_cerrar_test_label)\n",
    "\n",
    "\n",
    "print(\"Accuracy:\", score)\n",
    "\n",
    "y_pred = clf.predict(df_cerrar_test)  \n",
    "\n",
    "from sklearn.metrics import classification_report, confusion_matrix  \n",
    "print(confusion_matrix(df_cerrar_test_label,y_pred))  \n",
    "print(classification_report(df_cerrar_test_label,y_pred))  \n"
   ]
  },
  {
   "cell_type": "markdown",
   "metadata": {},
   "source": [
    "#### Stochastic Gradient Descent (SGD) "
   ]
  },
  {
   "cell_type": "code",
   "execution_count": null,
   "metadata": {},
   "outputs": [],
   "source": [
    "from sklearn.linear_model import SGDClassifier\n",
    "\n",
    "#clf = SGDClassifier(loss=\"hinge\", penalty=\"l2\", max_iter=5)\n",
    "clf_SGD = SGDClassifier(loss=\"log\", penalty=\"l2\", max_iter=100)\n",
    "\n",
    "clf_SGD.fit(df_cerrar_train, df_cerrar_train_label)   \n",
    "\n",
    "score = clf_SGD.score(df_cerrar_test, df_cerrar_test_label)\n",
    "\n",
    "print(\"Accuracy:\", score)\n",
    "y_pred = clf.predict(df_cerrar_test)  \n",
    "\n",
    "from sklearn.metrics import classification_report, confusion_matrix  \n",
    "print(confusion_matrix(df_cerrar_test_label,y_pred))  \n",
    "print(classification_report(df_cerrar_test_label,y_pred))"
   ]
  },
  {
   "cell_type": "markdown",
   "metadata": {},
   "source": [
    "#### Support Vector Classification (SVC)"
   ]
  },
  {
   "cell_type": "code",
   "execution_count": null,
   "metadata": {},
   "outputs": [],
   "source": [
    "from sklearn.svm import SVC  \n",
    "\n",
    "\n",
    "clf = SVC(kernel='linear',probability=True)  \n",
    "clf.fit(df_cerrar_train, df_cerrar_train_label) \n",
    "\n",
    "y_pred = clf.predict(df_cerrar_test)  \n",
    "\n",
    "score = clf.score(df_cerrar_test, df_cerrar_test_label)\n",
    "\n",
    "\n",
    "print(\"Accuracy:\", score)\n",
    "\n",
    "from sklearn.metrics import classification_report, confusion_matrix  \n",
    "print(confusion_matrix(df_cerrar_test_label,y_pred))  \n",
    "print(classification_report(df_cerrar_test_label,y_pred)) "
   ]
  },
  {
   "cell_type": "markdown",
   "metadata": {},
   "source": [
    "#### Choose best estimator"
   ]
  },
  {
   "cell_type": "code",
   "execution_count": null,
   "metadata": {},
   "outputs": [],
   "source": [
    "# Guardamos en un pickle\n",
    "import pickle\n",
    "\n",
    "with open('classifier_cerrar.pkl', 'wb') as f:\n",
    "    pickle.dump(clf_SGD, f)"
   ]
  }
 ],
 "metadata": {
  "kernelspec": {
   "display_name": "Python 3",
   "language": "python",
   "name": "python3"
  },
  "language_info": {
   "codemirror_mode": {
    "name": "ipython",
    "version": 3
   },
   "file_extension": ".py",
   "mimetype": "text/x-python",
   "name": "python",
   "nbconvert_exporter": "python",
   "pygments_lexer": "ipython3",
   "version": "3.6.8"
  }
 },
 "nbformat": 4,
 "nbformat_minor": 2
}
