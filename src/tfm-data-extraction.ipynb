{
 "cells": [
  {
   "cell_type": "markdown",
   "metadata": {},
   "source": [
    "# Data extraction"
   ]
  },
  {
   "cell_type": "markdown",
   "metadata": {},
   "source": [
    "La extracción de los datos consiste en visitar una página web mediante un \"robot\" hecho con Selenium. Una vez obtenida la página web sacaremos una serie de atributos de cada elemento HTML, así como dos pantallazo de la página web.\n",
    "\n",
    "Son dos pantallazos: uno es de la página web como la ve el usuario y otro es de una \"máscara\" que se crea cambiando la propiedad CSS background de cada elemento, de esta manera cada elemento tendrá un color diferente. En el próximo Notebook veremos como, a través de esta máscara, conseguimos idenficar los elementos que el usuario quiere etiquetar.\n",
    "\n",
    "Los datos de los elementos los grabaremos en Google Big Query y los pantallazos en Google Cloud Storage."
   ]
  },
  {
   "cell_type": "markdown",
   "metadata": {},
   "source": [
    "## Google Cloud Compute Engine"
   ]
  },
  {
   "cell_type": "markdown",
   "metadata": {},
   "source": [
    "Para realizar esta tarea usaremos un servidor con Ubuntu de Google Cloud Compute Engine."
   ]
  },
  {
   "cell_type": "markdown",
   "metadata": {},
   "source": [
    "#### Server creation"
   ]
  },
  {
   "cell_type": "markdown",
   "metadata": {},
   "source": [
    "Para la creación del servidor necesitamos una cuenta de Google e introducir una tarjeta de crédito, el primer año tienes 300 USD de crédito gratis."
   ]
  },
  {
   "cell_type": "markdown",
   "metadata": {},
   "source": [
    "1. Entrar en Google Cloud Console\n",
    "2. Crear un proyecto o elegir uno\n",
    "3. En la navegación de la izquierda pinchar en \"Compute Engine\" y ahí en \"VM instances\"\n",
    "4. Create\n",
    "5. Donde pone Boot disk darle a \"change\", y ahí elegir **Ubuntu 16.04 LTS**\n",
    "\n",
    "\n",
    "El resto de opciones son libres."
   ]
  },
  {
   "cell_type": "markdown",
   "metadata": {},
   "source": [
    "#### Server access"
   ]
  },
  {
   "cell_type": "markdown",
   "metadata": {},
   "source": [
    "Para acceder al servidor lo hacemos mediante SSH, lo podemos hacer directamente en la consola de GCP dándole al botón \"SSH\" en la fila de la instancia que acabamos de crear."
   ]
  },
  {
   "cell_type": "markdown",
   "metadata": {},
   "source": [
    "#### Requirements and server set-up"
   ]
  },
  {
   "cell_type": "markdown",
   "metadata": {},
   "source": [
    "Ejecutar en la consola del servidor los siguientes comandos, en orden y por separado:\n"
   ]
  },
  {
   "cell_type": "markdown",
   "metadata": {},
   "source": [
    "1.\n",
    "```bash \n",
    "export LC_ALL=\"en_US.UTF-8\"\n",
    "export LC_CTYPE=\"en_US.UTF-8\"\n",
    "sudo dpkg-reconfigure locales\n",
    "\n",
    "```\n",
    "2.\n",
    "```bash \n",
    "mkdir tfmfabri\n",
    "cd tfmfabri\n",
    "wget https://storage.googleapis.com/tfm_bucket/tritritri/server-setup.zip\n",
    "sudo apt-get --yes --force-yes install unzip\n",
    "```\n",
    "3. (password en el email)\n",
    "```bash \n",
    "unzip server6.zip\n",
    "```\n",
    "4.\n",
    "```bash \n",
    "cd server\n",
    "sudo bash installation.sh\n",
    "```\n",
    "5.\n",
    "```bash \n",
    "cd temp\n",
    "sudo wget https://dl.google.com/linux/direct/google-chrome-stable_current_amd64.deb\n",
    "sudo dpkg -i google-chrome*.deb\n",
    "sudo apt-get --yes --force-yes -f install\n",
    "cd ..\n",
    "```\n",
    "6.\n",
    "```bash \n",
    ". venv/bin/activate\n",
    "```"
   ]
  },
  {
   "cell_type": "markdown",
   "metadata": {},
   "source": [
    "#### Script execution"
   ]
  },
  {
   "cell_type": "markdown",
   "metadata": {},
   "source": [
    "En el último paso de la celda anterior hemos activado el entorno virtual que ya tiene todos nuestros requirements intalados. Ahora procedemos a ejecutar el script de Python con el siguiente comando:\n",
    "\n",
    "\n",
    "```bash \n",
    "python3 web-scraper-ubuntu.py -i urls-to-scrap.csv\n",
    "```"
   ]
  },
  {
   "cell_type": "markdown",
   "metadata": {},
   "source": [
    "### Opción alternativa"
   ]
  },
  {
   "cell_type": "markdown",
   "metadata": {},
   "source": [
    "Como opción alternativa y para no tener que montar todo el servidor, el funcionamiento del script, y el script en sí mismo se puede ver en el servidor montado para el último apartado del proyecto, la visualización.\n",
    "\n",
    "El script se puede ver en la carpeta:\n",
    "```bash\n",
    "/home/fabrigm/flaskproject\n",
    "```\n",
    "\n",
    "Y se puede ejecutar, una vez se ha accedido al servidor, de la siguiente manera:\n",
    "```bash\n",
    "cd flaskproject/\n",
    ". venv/bin/activate\n",
    "python3 web-scraper-ubuntu.py -i urls-to-scrap.csv\n",
    "```"
   ]
  }
 ],
 "metadata": {
  "kernelspec": {
   "display_name": "Python 3",
   "language": "python",
   "name": "python3"
  },
  "language_info": {
   "codemirror_mode": {
    "name": "ipython",
    "version": 3
   },
   "file_extension": ".py",
   "mimetype": "text/x-python",
   "name": "python",
   "nbconvert_exporter": "python",
   "pygments_lexer": "ipython3",
   "version": "3.6.8"
  }
 },
 "nbformat": 4,
 "nbformat_minor": 2
}
