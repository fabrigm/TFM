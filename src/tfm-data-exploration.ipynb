{
 "cells": [
  {
   "cell_type": "markdown",
   "metadata": {},
   "source": [
    "# Data exploration"
   ]
  },
  {
   "cell_type": "markdown",
   "metadata": {},
   "source": [
    "#### Requirements"
   ]
  },
  {
   "cell_type": "code",
   "execution_count": null,
   "metadata": {},
   "outputs": [],
   "source": [
    "!pip install pandas\n",
    "!pip install google-cloud-bigquery\n",
    "!pip install google-cloud-storage\n",
    "!pip install pandas-gbq\n"
   ]
  },
  {
   "cell_type": "markdown",
   "metadata": {},
   "source": [
    "Para poder explicar los datos obtenidos lo primero que vamos a hacer es descargárnoslos.\n",
    "\n",
    "Como he explicado en anteriores Notebooks los datos se encuentran alojados en el servicio Big Query de Google Cloud Platform.\n"
   ]
  },
  {
   "cell_type": "markdown",
   "metadata": {},
   "source": [
    "#### Download data\n",
    "Para descargar los datos de Big Query vamos a hacer uso de la funcionalidad de pandas read_gbq, que te permite traerte los datos a un pandas a través de una query directamente."
   ]
  },
  {
   "cell_type": "code",
   "execution_count": null,
   "metadata": {},
   "outputs": [],
   "source": [
    "%%time\n",
    "import pandas as pd\n",
    "import os\n",
    "\n",
    "credentials_file = 'tfmfabri-2cf8db9433ba.json'\n",
    "\n",
    "os.environ['GOOGLE_APPLICATION_CREDENTIALS'] = credentials_file\n",
    "\n",
    "from google.cloud import bigquery\n",
    "client = bigquery.Client()\n",
    "\n",
    "# Esta consulta puede tardar  mucho debido a la gran cantidad de datos, es por eso que propongo hacer\n",
    "# una consulta que devuelva sólo 10000 datos para explorar el tipo de datos que tenemos. Si se quiere\n",
    "# traer todos los datos basta con descomentar la línea sin LIMIT\n",
    "query= 'SELECT * FROM tfm.tfm_url_df LIMIT 10000'\n",
    "#query = 'SELECT * FROM tfm.tfm_url_df'\n",
    "\n",
    "df = pd.read_gbq(query,project_id='tfmfabri')\n",
    "\n",
    "    "
   ]
  },
  {
   "cell_type": "code",
   "execution_count": null,
   "metadata": {},
   "outputs": [],
   "source": [
    "df.head()"
   ]
  },
  {
   "cell_type": "markdown",
   "metadata": {},
   "source": [
    "Mediante el comando dtypes podemos ver los distintos tipos de columnas que tenemos, su nombre y su tipo."
   ]
  },
  {
   "cell_type": "code",
   "execution_count": null,
   "metadata": {},
   "outputs": [],
   "source": [
    "df.dtypes"
   ]
  },
  {
   "cell_type": "markdown",
   "metadata": {},
   "source": [
    "Tenemos los siguientes datos de cada elemento HTML:\n",
    "\n",
    "**attrs**: atributos\n",
    "\n",
    "**name**: tipo de elemento HTML       \n",
    "\n",
    "**tag**: código HTML entero del elemento\n",
    "\n",
    "**text**: texto\n",
    "\n",
    "**class**: clase CSS\n",
    "\n",
    "**id**: identificador único \n",
    "\n",
    "**css_path**: ruta de generaciones, desde el primer padre (html) hasta el elemento, separado por \">\"\n",
    "\n",
    "**css_selector**: selector único del elemento para poder seleccionarlo mediante javascript o css\n",
    "\n",
    "**is_in_head**: si está dentro del head\n",
    "\n",
    "**is_script**: si está dentro un un tag script\n",
    "\n",
    "**is_no_script**: si está dentro de un tag no-script\n",
    "\n",
    "**is_displayed**: atributo JS que dice si se muestra en pantalla (no lo uso por falta de integridad)\n",
    "\n",
    "**is_enabled**: atributo JS que dice si está habilitado (no lo uso por falta de integridad)\n",
    "\n",
    "**position_x_y**: coordinatas x e y de la esquina superior izquierda del elemento\n",
    "\n",
    "**width_height**: ancho y talo\n",
    "\n",
    "**rbg_color**: colo rbg en la máscara usada para la categorización\n",
    "\n",
    "**url**: página web de la que es hijo\n",
    "\n",
    "**labeled**: si está categorizado o no\n",
    "\n",
    "**label**: categoría\n",
    "\n",
    "**created_date**: fecha de creación\n",
    "\n",
    "**ts**: time stamp de fecha de creacion\n",
    "\n"
   ]
  },
  {
   "cell_type": "markdown",
   "metadata": {},
   "source": [
    "A continuación, estudio cada tipo de elemento por separado."
   ]
  },
  {
   "cell_type": "markdown",
   "metadata": {},
   "source": [
    "#### Elementos del tipo \"mensaje de cookies\""
   ]
  },
  {
   "cell_type": "code",
   "execution_count": null,
   "metadata": {},
   "outputs": [],
   "source": [
    "# Si hemos volcado todos los datos de la base de datos al dataframe df podemos comentar las líneas \n",
    "# donde se ejecuta la query y descomentar la que filtra el dataframe\n",
    "query= 'SELECT * FROM tfm.tfm_url_df where label =\"mensaje_cookies\"'\n",
    "df_m = pd.read_gbq(query,project_id='tfmfabri')\n",
    "\n",
    "#df_m = df[df['label'] == 'mensaje_cookies']\n",
    "\n",
    "len(df_m.index)"
   ]
  },
  {
   "cell_type": "markdown",
   "metadata": {},
   "source": [
    "##### Qué tipo de elementos HTML tenemos en mensaje_cookies?\n"
   ]
  },
  {
   "cell_type": "code",
   "execution_count": null,
   "metadata": {},
   "outputs": [],
   "source": [
    "df_m['name'].unique()"
   ]
  },
  {
   "cell_type": "markdown",
   "metadata": {},
   "source": [
    "Vemos que los mensajes de cookies siempre son del tipo span, p, div o td.\n",
    "##### Cuántos hay de cada tipo?"
   ]
  },
  {
   "cell_type": "code",
   "execution_count": null,
   "metadata": {},
   "outputs": [],
   "source": [
    "df_m.groupby(by=['name']).count().sort_values(by='label')['ts']"
   ]
  },
  {
   "cell_type": "markdown",
   "metadata": {},
   "source": [
    "#### Elementos del tipo \"aceptar cookies\""
   ]
  },
  {
   "cell_type": "code",
   "execution_count": null,
   "metadata": {},
   "outputs": [],
   "source": [
    "# Si hemos volcado todos los datos de la base de datos al dataframe df podemos comentar las líneas \n",
    "# donde se ejecuta la query y descomentar la que filtra el dataframe\n",
    "query= 'SELECT * FROM tfm.tfm_url_df where label =\"aceptar_cookies\"'\n",
    "df_a = pd.read_gbq(query,project_id='tfmfabri')\n",
    "\n",
    "#df_m = df[df['label'] == 'mensaje_cookies']\n",
    "\n",
    "len(df_a.index)"
   ]
  },
  {
   "cell_type": "markdown",
   "metadata": {},
   "source": [
    "##### Qué tipo de elementos HTML tenemos en aceptar_cookies?\n"
   ]
  },
  {
   "cell_type": "code",
   "execution_count": null,
   "metadata": {},
   "outputs": [],
   "source": [
    "df_a['name'].unique()"
   ]
  },
  {
   "cell_type": "markdown",
   "metadata": {},
   "source": [
    "Vemos que los botones/enlaces de aceptar cookies siempre son del tipo button, span, a, strong, input, label, div y b.\n",
    "##### Cuántos hay de cada tipo?"
   ]
  },
  {
   "cell_type": "code",
   "execution_count": null,
   "metadata": {},
   "outputs": [],
   "source": [
    "df_a.groupby(by=['name']).count().sort_values(by='label')['ts']"
   ]
  },
  {
   "cell_type": "markdown",
   "metadata": {},
   "source": [
    "#### Elementos del tipo \"cerrar cookies\""
   ]
  },
  {
   "cell_type": "code",
   "execution_count": null,
   "metadata": {},
   "outputs": [],
   "source": [
    "# Si hemos volcado todos los datos de la base de datos al dataframe df podemos comentar las líneas \n",
    "# donde se ejecuta la query y descomentar la que filtra el dataframe\n",
    "query= 'SELECT * FROM tfm.tfm_url_df where label =\"cerrar_cookies\"'\n",
    "df_c = pd.read_gbq(query,project_id='tfmfabri')\n",
    "\n",
    "#df_m = df[df['label'] == 'mensaje_cookies']\n",
    "\n",
    "len(df_c.index)"
   ]
  },
  {
   "cell_type": "markdown",
   "metadata": {},
   "source": [
    "##### Qué tipo de elementos tenemos en cerrar_cookies?\n"
   ]
  },
  {
   "cell_type": "code",
   "execution_count": null,
   "metadata": {},
   "outputs": [],
   "source": [
    "df_c['name'].unique()"
   ]
  },
  {
   "cell_type": "markdown",
   "metadata": {},
   "source": [
    "Vemos que los botones/enlaces de aceptar cookies siempre son del tipo span,a div, i y button.\n",
    "##### Cuántos hay de cada tipo?"
   ]
  },
  {
   "cell_type": "code",
   "execution_count": null,
   "metadata": {},
   "outputs": [],
   "source": [
    "df_c.groupby(by=['name']).count().sort_values(by='label')['ts']"
   ]
  }
 ],
 "metadata": {
  "kernelspec": {
   "display_name": "Python 3",
   "language": "python",
   "name": "python3"
  },
  "language_info": {
   "codemirror_mode": {
    "name": "ipython",
    "version": 3
   },
   "file_extension": ".py",
   "mimetype": "text/x-python",
   "name": "python",
   "nbconvert_exporter": "python",
   "pygments_lexer": "ipython3",
   "version": "3.6.8"
  }
 },
 "nbformat": 4,
 "nbformat_minor": 2
}
