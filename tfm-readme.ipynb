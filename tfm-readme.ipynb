{
 "cells": [
  {
   "cell_type": "markdown",
   "metadata": {},
   "source": [
    "### 1. Introduction"
   ]
  },
  {
   "cell_type": "markdown",
   "metadata": {},
   "source": [
    "Como proyecto de final de master, master de Data science en Kschool, nos proponen hacer un proyecto de fin de master. En el tenemos que hacer un trabajo como si de un data science trabajando se tratase. \n",
    "\n",
    "Yo quería hacer algo con datos reales, que estuviesen a mi alcance, y que tuviesen que ver con el mundo de las páginas web al que tanto tiepo le he dedicado a lo largo de mi vida. Es por eso que yo he decidido hacer un sistema de Machine Learning que detecte dónde está el mensaje de las cookies, si lo hay, en una página web y el botón de aceptar y/o cerrar, si lo hubiese igualmente.\n",
    "\n",
    "Dentro del mundo del datascience y del ML en particular es un proyecto de clasificación y aprendizaje supervisado. Qué quiere decir esto? Pues que en base a unos datos iniciales que ya están etiquetados por categorías quiero predecir la categoría a la que pertenecen nuevos datos. En mi caso en particular le voy a enseñar que distintos tipos de elementos de páginas web, elementos como pueden ser divs, ps, as, buttons, etc., son \"mensaje de cookies\", \"botón/enlace de aceptar cookies\" o \"botón/enlace de cerrar cookies\" e introduciendo una nueva web, o lo que es lo mismo todos sus elementos, me los tiene que etiquetar, con las mismas categorías enseñadas.\n",
    "\n",
    "Mi proyecto, que explico y demuestro a continuación consta de las distintas fases necesarias para todo proyecto de data science, en concreto de clasificación y aprendizaje supervisado: extracción de los datos, etiquetado de los datos, exploración de los datos, tratamiento de los datos, entrenamiento de los modelos, predicción de nuevos datos y visualización del resultado.\n",
    "\n",
    "A continuación detallo las distintas partes del proyecto, explico, por medio de Jupyter Notebooks cada proceso y doy la posibilidad de replicar mi trabajo.\n"
   ]
  },
  {
   "cell_type": "markdown",
   "metadata": {},
   "source": [
    "#### Importante"
   ]
  },
  {
   "cell_type": "markdown",
   "metadata": {},
   "source": [
    "Para ver el resultado del paso 3 es importante haber ejecutado el paso 2. Igualmente para ver el resultado del paso 4 es importante haber ejecutado el paso 2 y 3."
   ]
  },
  {
   "cell_type": "markdown",
   "metadata": {},
   "source": [
    "### 2. Data extraction\n"
   ]
  },
  {
   "cell_type": "markdown",
   "metadata": {},
   "source": [
    "Extracción de datos.\n",
    "[Notebook Data extraction](src/tfm-data-extraction.ipynb)"
   ]
  },
  {
   "cell_type": "markdown",
   "metadata": {},
   "source": [
    "### 3. Data labeling"
   ]
  },
  {
   "cell_type": "markdown",
   "metadata": {},
   "source": [
    "Etiquetado de los datos.\n",
    "[Notebook Data labeling](src/tfm-data-labeling.ipynb)"
   ]
  },
  {
   "cell_type": "markdown",
   "metadata": {},
   "source": [
    "### 4. Data Matching"
   ]
  },
  {
   "cell_type": "markdown",
   "metadata": {},
   "source": [
    "Macheo de los datos.\n",
    "[Notebook Data matching](src/tfm-data-matching.ipynb)"
   ]
  },
  {
   "cell_type": "markdown",
   "metadata": {},
   "source": [
    "### 5. Data exploration\n"
   ]
  },
  {
   "cell_type": "markdown",
   "metadata": {},
   "source": [
    "Explicación de los datos obtenidos.\n",
    "[Notebook Data exploration](src/tfm-data-exploration.ipynb)"
   ]
  },
  {
   "cell_type": "markdown",
   "metadata": {},
   "source": [
    "### 6. Data preparation"
   ]
  },
  {
   "cell_type": "markdown",
   "metadata": {},
   "source": [
    "Preparación/expansión de los datos.\n",
    "[Notebook Data preparation](src/tfm-data-preparation.ipynb)"
   ]
  },
  {
   "cell_type": "markdown",
   "metadata": {},
   "source": [
    "### 7. Model traning"
   ]
  },
  {
   "cell_type": "markdown",
   "metadata": {},
   "source": [
    "Entrenar el modelo.\n",
    "[Notebook Model Training](src/tfm-model-training.ipynb)"
   ]
  },
  {
   "cell_type": "markdown",
   "metadata": {},
   "source": [
    "### 8. Visualization\n"
   ]
  },
  {
   "cell_type": "markdown",
   "metadata": {},
   "source": [
    "Debido a la dificultad de reproducir la instalación de un servidor y sobre todo de Selenium+Chrome este apartado se monta sobre un servidor de Google Cloud Platform.\n",
    "\n",
    "El archivo donde se ejecuta todo el código se llama app.py y se puede encontrar en la carpeta flaskproject:\n",
    "```bash\n",
    "cd flaskproject/\n",
    "vim app.py\n",
    "```\n",
    "\n",
    "Se puede ver el log de la aplicación durante la ejecución, ejecutando el comando:\n",
    "```bash\n",
    "tail -f /var/log/apache2/error.log \n",
    "```\n",
    "\n",
    "Visualización.\n",
    "[Website](http://35.232.19.79/)"
   ]
  },
  {
   "cell_type": "markdown",
   "metadata": {},
   "source": [
    "### 9. Conclusion and next steps\n"
   ]
  },
  {
   "cell_type": "markdown",
   "metadata": {},
   "source": [
    "La funcionalidad requerida se ha cumplido en un alto porcentaje de los casos.\n",
    "\n",
    "Siguientes pasos a mejorar:\n",
    "    - Mejorar el modelo que encuentra los botones de aceptar y de cerrar cookies.\n",
    "    - Estudiar una reducción de dimensionalidad en el modelo que encuentra el botón de aceptar cookies.\n",
    "    - Mezclar diferentes tipos de inputs dentro de un mismo modelo, en concreto: el texto de los elemntos HTML, inputs categóricas como puede ser el tipo de elemento HTML, inputs continuos como puede ser el ancho o el alto de los elementos HTML y una imagen.\n",
    "    - Mejorar la velocidad con la que se cogen y se calculan los datos.\n",
    "Siguientes pasos:\n",
    "    - Categorizar el tipo de elemento dentro de una página: header, contenido, footer, foto de producto, precio de producto, botón de añadir al carrito, etc.\n",
    "    - Testear un modelo sólo de imágenes, que aunque cueste mas computacionalmente espero rebaje significativamente la velocidad de ejecución, utilizando la API de Google de Tensorflow (https://cloud.google.com/solutions/creating-object-detection-application-tensorflow) tratando los elementos de la web como si fueran objetos.\n",
    "    \n",
    "    "
   ]
  }
 ],
 "metadata": {
  "kernelspec": {
   "display_name": "Python 3",
   "language": "python",
   "name": "python3"
  },
  "language_info": {
   "codemirror_mode": {
    "name": "ipython",
    "version": 3
   },
   "file_extension": ".py",
   "mimetype": "text/x-python",
   "name": "python",
   "nbconvert_exporter": "python",
   "pygments_lexer": "ipython3",
   "version": "3.6.8"
  }
 },
 "nbformat": 4,
 "nbformat_minor": 2
}
