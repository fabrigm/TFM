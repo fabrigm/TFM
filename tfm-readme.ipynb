{
 "cells": [
  {
   "cell_type": "markdown",
   "metadata": {},
   "source": [
    "### 1. Introducción"
   ]
  },
  {
   "cell_type": "markdown",
   "metadata": {},
   "source": [
    "Tras realizar el Máster de Data Science en Kschool, nos proponen la elaboración de un Proyecto Fin de Master con un claro escenario; aplicar de forma práctica todos los conocimientos adquiridos a lo largo del curso poniéndonos en la piel de un de Data Scientist en un mercado laboral.\n",
    "\n",
    "Con este punto de partida he querido trabajar con datos reales que estuviesen a mi alcance y, aprovechando mi experiencia profesional me he volcado en el mundo web para desarrollar un sistema de Machine Learning que, tras el aprendizaje inducido, fuese capaz de detectar la posición de las cookies en una página web, así como los botones de aceptar y/o cerrar, si es que existiesen.\n",
    "\n",
    "Este proyecto en el mundo del Data Science y el Machine Learning se conoce como de \"clasificación y aprendizaje supervisado\", lo que quiere decir que a base de la recopilación y categorización de un conjunto inicial de datos, intentaremos predecir la categoría a la que pertenecen datos adicionales aleatorios. En la práctica esto lo he traducido en enseñar al sistema, con la recopilación de múltiples páginas web, los diferentes elemenetos que las componen (divs, ps, as, buttons, etc.) y que se destinan en ellas a los \"mensajes de cookies\", \"botón/enlace de aceptar cookies\" y/o \"botón/enlace de cerrar cookies\". Una vez realizada esta fase, el objetivo es que mostrándoles páginas web de forma aletoria, este sistema las etiquete señalando la existencia y ubicación de estos contenidos. \n",
    "\n",
    "Con este proyecto que os presento he trabajo las distintas que debe contener todo proyecto de Data Science de clasificación y aprendizaje supervisado, que son; extracción de datos, etiquetado, exploración, tratamiento, entrenamiento de modelos, predicción de nuevos datos y visualización de resultados.\n",
    "\n",
    "Para presentar el trabajo realizado me he decantado por el medio Jupyter Notebooks detallando cada fase y dando la posibilidad de replicar mi trabajo.\n"
   ]
  },
  {
   "cell_type": "markdown",
   "metadata": {},
   "source": [
    "#### Importante"
   ]
  },
  {
   "cell_type": "markdown",
   "metadata": {},
   "source": [
    "Para ver el resultado del paso 3 es importante haber ejecutado el paso 2. Igualmente para ver el resultado del paso 4 es importante haber ejecutado el paso 2 y 3."
   ]
  },
  {
   "cell_type": "markdown",
   "metadata": {},
   "source": [
    "### 2. Extracción de datos\n"
   ]
  },
  {
   "cell_type": "markdown",
   "metadata": {},
   "source": [
    "Extracción de datos.\n",
    "[Notebook Data extraction](src/tfm-data-extraction.ipynb)"
   ]
  },
  {
   "cell_type": "markdown",
   "metadata": {},
   "source": [
    "### 3. Etiquetado de datos"
   ]
  },
  {
   "cell_type": "markdown",
   "metadata": {},
   "source": [
    "Etiquetado de los datos.\n",
    "[Notebook Data labeling](src/tfm-data-labeling.ipynb)"
   ]
  },
  {
   "cell_type": "markdown",
   "metadata": {},
   "source": [
    "### 4. Macheo de datos"
   ]
  },
  {
   "cell_type": "markdown",
   "metadata": {},
   "source": [
    "Macheo de los datos.\n",
    "[Notebook Data matching](src/tfm-data-matching.ipynb)"
   ]
  },
  {
   "cell_type": "markdown",
   "metadata": {},
   "source": [
    "### 5. Eploración de datos\n"
   ]
  },
  {
   "cell_type": "markdown",
   "metadata": {},
   "source": [
    "Explicación de los datos obtenidos.\n",
    "[Notebook Data exploration](src/tfm-data-exploration.ipynb)"
   ]
  },
  {
   "cell_type": "markdown",
   "metadata": {},
   "source": [
    "### 6. Preparación de datos"
   ]
  },
  {
   "cell_type": "markdown",
   "metadata": {},
   "source": [
    "Preparación/expansión de los datos.\n",
    "[Notebook Data preparation](src/tfm-data-preparation.ipynb)"
   ]
  },
  {
   "cell_type": "markdown",
   "metadata": {},
   "source": [
    "### 7. Entrentado del modelo"
   ]
  },
  {
   "cell_type": "markdown",
   "metadata": {},
   "source": [
    "Entrenar el modelo.\n",
    "[Notebook Model Training](src/tfm-model-training.ipynb)"
   ]
  },
  {
   "cell_type": "markdown",
   "metadata": {},
   "source": [
    "### 8. Visualización\n"
   ]
  },
  {
   "cell_type": "markdown",
   "metadata": {},
   "source": [
    "Debido a la dificultad de reproducir la instalación de un servidor y sobre todo de Selenium+Chrome este apartado se monta sobre un servidor de Google Cloud Platform.\n",
    "\n",
    "El archivo donde se ejecuta todo el código se llama app.py y se puede encontrar en la carpeta flaskproject:\n",
    "```bash\n",
    "cd flaskproject/\n",
    "vim app.py\n",
    "```\n",
    "\n",
    "Se puede ver el log de la aplicación durante la ejecución, ejecutando el comando:\n",
    "```bash\n",
    "tail -f /var/log/apache2/error.log \n",
    "```\n",
    "\n",
    "\n",
    "Visualización: Google Chrome + Desktop.\n",
    "[Website](http://35.232.19.79/)"
   ]
  },
  {
   "cell_type": "markdown",
   "metadata": {},
   "source": [
    "### 9. Conclusion y próximos pasos\n"
   ]
  },
  {
   "cell_type": "markdown",
   "metadata": {},
   "source": [
    "La funcionalidad requerida se ha cumplido en un alto porcentaje de los casos de prueba.\n",
    "\n",
    "Características a mejorar:\n",
    "    - Mejorar el modelo que encuentra los botones de aceptar y de cerrar cookies.\n",
    "    - Estudiar una reducción de dimensionalidad en el modelo que encuentra el botón de aceptar cookies.\n",
    "    - Mejorar la velocidad con la que se extraen y se calculan los datos.\n",
    "\n",
    "Siguientes pasos:\n",
    "    - Mezclar diferentes tipos de inputs dentro de un mismo modelo, en concreto: el texto de los elementos HTML, inputs categóricas como puede ser el tipo de elemento HTML, inputs continuos como puede ser el ancho o el alto de los elementos HTML y una imagen.\n",
    "    - Categorizar el tipo de elemento dentro de una página: header, contenido, footer, foto de producto, precio de producto, botón de añadir al carrito, etc.\n",
    "    - Testear un modelo sólo de imágenes, que aunque cueste mas computacionalmente espero que rebaje significativamente la velocidad de ejecución, utilizando la API de Google de Tensorflow (https://cloud.google.com/solutions/creating-object-detection-application-tensorflow), tratando los elementos de la web como si fueran objetos.\n",
    "    \n",
    "    "
   ]
  },
  {
   "cell_type": "code",
   "execution_count": null,
   "metadata": {},
   "outputs": [],
   "source": []
  }
 ],
 "metadata": {
  "kernelspec": {
   "display_name": "Python 3",
   "language": "python",
   "name": "python3"
  },
  "language_info": {
   "codemirror_mode": {
    "name": "ipython",
    "version": 3
   },
   "file_extension": ".py",
   "mimetype": "text/x-python",
   "name": "python",
   "nbconvert_exporter": "python",
   "pygments_lexer": "ipython3",
   "version": "3.6.8"
  }
 },
 "nbformat": 4,
 "nbformat_minor": 2
}
